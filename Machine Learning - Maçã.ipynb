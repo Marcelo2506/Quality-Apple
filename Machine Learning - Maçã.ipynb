{
 "cells": [
  {
   "cell_type": "code",
   "execution_count": 86,
   "id": "6e5bc275",
   "metadata": {},
   "outputs": [],
   "source": [
    "import pandas as pd\n",
    "import numpy as np"
   ]
  },
  {
   "cell_type": "code",
   "execution_count": 87,
   "id": "0af95e14",
   "metadata": {},
   "outputs": [],
   "source": [
    "df = pd.read_csv('apple_quality.csv')"
   ]
  },
  {
   "cell_type": "code",
   "execution_count": 88,
   "id": "366767af",
   "metadata": {},
   "outputs": [
    {
     "data": {
      "text/html": [
       "<div>\n",
       "<style scoped>\n",
       "    .dataframe tbody tr th:only-of-type {\n",
       "        vertical-align: middle;\n",
       "    }\n",
       "\n",
       "    .dataframe tbody tr th {\n",
       "        vertical-align: top;\n",
       "    }\n",
       "\n",
       "    .dataframe thead th {\n",
       "        text-align: right;\n",
       "    }\n",
       "</style>\n",
       "<table border=\"1\" class=\"dataframe\">\n",
       "  <thead>\n",
       "    <tr style=\"text-align: right;\">\n",
       "      <th></th>\n",
       "      <th>A_id</th>\n",
       "      <th>Size</th>\n",
       "      <th>Weight</th>\n",
       "      <th>Sweetness</th>\n",
       "      <th>Crunchiness</th>\n",
       "      <th>Juiciness</th>\n",
       "      <th>Ripeness</th>\n",
       "      <th>Acidity</th>\n",
       "      <th>Quality</th>\n",
       "    </tr>\n",
       "  </thead>\n",
       "  <tbody>\n",
       "    <tr>\n",
       "      <th>0</th>\n",
       "      <td>0.0</td>\n",
       "      <td>-3.970049</td>\n",
       "      <td>-2.512336</td>\n",
       "      <td>5.346330</td>\n",
       "      <td>-1.012009</td>\n",
       "      <td>1.844900</td>\n",
       "      <td>0.329840</td>\n",
       "      <td>-0.491590483</td>\n",
       "      <td>good</td>\n",
       "    </tr>\n",
       "    <tr>\n",
       "      <th>1</th>\n",
       "      <td>1.0</td>\n",
       "      <td>-1.195217</td>\n",
       "      <td>-2.839257</td>\n",
       "      <td>3.664059</td>\n",
       "      <td>1.588232</td>\n",
       "      <td>0.853286</td>\n",
       "      <td>0.867530</td>\n",
       "      <td>-0.722809367</td>\n",
       "      <td>good</td>\n",
       "    </tr>\n",
       "    <tr>\n",
       "      <th>2</th>\n",
       "      <td>2.0</td>\n",
       "      <td>-0.292024</td>\n",
       "      <td>-1.351282</td>\n",
       "      <td>-1.738429</td>\n",
       "      <td>-0.342616</td>\n",
       "      <td>2.838636</td>\n",
       "      <td>-0.038033</td>\n",
       "      <td>2.621636473</td>\n",
       "      <td>bad</td>\n",
       "    </tr>\n",
       "    <tr>\n",
       "      <th>3</th>\n",
       "      <td>3.0</td>\n",
       "      <td>-0.657196</td>\n",
       "      <td>-2.271627</td>\n",
       "      <td>1.324874</td>\n",
       "      <td>-0.097875</td>\n",
       "      <td>3.637970</td>\n",
       "      <td>-3.413761</td>\n",
       "      <td>0.790723217</td>\n",
       "      <td>good</td>\n",
       "    </tr>\n",
       "    <tr>\n",
       "      <th>4</th>\n",
       "      <td>4.0</td>\n",
       "      <td>1.364217</td>\n",
       "      <td>-1.296612</td>\n",
       "      <td>-0.384658</td>\n",
       "      <td>-0.553006</td>\n",
       "      <td>3.030874</td>\n",
       "      <td>-1.303849</td>\n",
       "      <td>0.501984036</td>\n",
       "      <td>good</td>\n",
       "    </tr>\n",
       "  </tbody>\n",
       "</table>\n",
       "</div>"
      ],
      "text/plain": [
       "   A_id      Size    Weight  Sweetness  Crunchiness  Juiciness  Ripeness  \\\n",
       "0   0.0 -3.970049 -2.512336   5.346330    -1.012009   1.844900  0.329840   \n",
       "1   1.0 -1.195217 -2.839257   3.664059     1.588232   0.853286  0.867530   \n",
       "2   2.0 -0.292024 -1.351282  -1.738429    -0.342616   2.838636 -0.038033   \n",
       "3   3.0 -0.657196 -2.271627   1.324874    -0.097875   3.637970 -3.413761   \n",
       "4   4.0  1.364217 -1.296612  -0.384658    -0.553006   3.030874 -1.303849   \n",
       "\n",
       "        Acidity Quality  \n",
       "0  -0.491590483    good  \n",
       "1  -0.722809367    good  \n",
       "2   2.621636473     bad  \n",
       "3   0.790723217    good  \n",
       "4   0.501984036    good  "
      ]
     },
     "execution_count": 88,
     "metadata": {},
     "output_type": "execute_result"
    }
   ],
   "source": [
    "df.head()"
   ]
  },
  {
   "cell_type": "code",
   "execution_count": 89,
   "id": "3403b85f",
   "metadata": {},
   "outputs": [
    {
     "name": "stdout",
     "output_type": "stream",
     "text": [
      "<class 'pandas.core.frame.DataFrame'>\n",
      "RangeIndex: 4001 entries, 0 to 4000\n",
      "Data columns (total 9 columns):\n",
      " #   Column       Non-Null Count  Dtype  \n",
      "---  ------       --------------  -----  \n",
      " 0   A_id         4000 non-null   float64\n",
      " 1   Size         4000 non-null   float64\n",
      " 2   Weight       4000 non-null   float64\n",
      " 3   Sweetness    4000 non-null   float64\n",
      " 4   Crunchiness  4000 non-null   float64\n",
      " 5   Juiciness    4000 non-null   float64\n",
      " 6   Ripeness     4000 non-null   float64\n",
      " 7   Acidity      4001 non-null   object \n",
      " 8   Quality      4000 non-null   object \n",
      "dtypes: float64(7), object(2)\n",
      "memory usage: 281.4+ KB\n"
     ]
    }
   ],
   "source": [
    "df.info()"
   ]
  },
  {
   "cell_type": "code",
   "execution_count": 90,
   "id": "ee1fd368",
   "metadata": {},
   "outputs": [],
   "source": [
    "df = df.drop('A_id',axis=1)"
   ]
  },
  {
   "cell_type": "code",
   "execution_count": 91,
   "id": "38f0f381",
   "metadata": {},
   "outputs": [
    {
     "data": {
      "text/html": [
       "<div>\n",
       "<style scoped>\n",
       "    .dataframe tbody tr th:only-of-type {\n",
       "        vertical-align: middle;\n",
       "    }\n",
       "\n",
       "    .dataframe tbody tr th {\n",
       "        vertical-align: top;\n",
       "    }\n",
       "\n",
       "    .dataframe thead th {\n",
       "        text-align: right;\n",
       "    }\n",
       "</style>\n",
       "<table border=\"1\" class=\"dataframe\">\n",
       "  <thead>\n",
       "    <tr style=\"text-align: right;\">\n",
       "      <th></th>\n",
       "      <th>Size</th>\n",
       "      <th>Weight</th>\n",
       "      <th>Sweetness</th>\n",
       "      <th>Crunchiness</th>\n",
       "      <th>Juiciness</th>\n",
       "      <th>Ripeness</th>\n",
       "      <th>Acidity</th>\n",
       "      <th>Quality</th>\n",
       "    </tr>\n",
       "  </thead>\n",
       "  <tbody>\n",
       "    <tr>\n",
       "      <th>0</th>\n",
       "      <td>-3.970049</td>\n",
       "      <td>-2.512336</td>\n",
       "      <td>5.346330</td>\n",
       "      <td>-1.012009</td>\n",
       "      <td>1.844900</td>\n",
       "      <td>0.329840</td>\n",
       "      <td>-0.491590483</td>\n",
       "      <td>good</td>\n",
       "    </tr>\n",
       "    <tr>\n",
       "      <th>1</th>\n",
       "      <td>-1.195217</td>\n",
       "      <td>-2.839257</td>\n",
       "      <td>3.664059</td>\n",
       "      <td>1.588232</td>\n",
       "      <td>0.853286</td>\n",
       "      <td>0.867530</td>\n",
       "      <td>-0.722809367</td>\n",
       "      <td>good</td>\n",
       "    </tr>\n",
       "    <tr>\n",
       "      <th>2</th>\n",
       "      <td>-0.292024</td>\n",
       "      <td>-1.351282</td>\n",
       "      <td>-1.738429</td>\n",
       "      <td>-0.342616</td>\n",
       "      <td>2.838636</td>\n",
       "      <td>-0.038033</td>\n",
       "      <td>2.621636473</td>\n",
       "      <td>bad</td>\n",
       "    </tr>\n",
       "    <tr>\n",
       "      <th>3</th>\n",
       "      <td>-0.657196</td>\n",
       "      <td>-2.271627</td>\n",
       "      <td>1.324874</td>\n",
       "      <td>-0.097875</td>\n",
       "      <td>3.637970</td>\n",
       "      <td>-3.413761</td>\n",
       "      <td>0.790723217</td>\n",
       "      <td>good</td>\n",
       "    </tr>\n",
       "    <tr>\n",
       "      <th>4</th>\n",
       "      <td>1.364217</td>\n",
       "      <td>-1.296612</td>\n",
       "      <td>-0.384658</td>\n",
       "      <td>-0.553006</td>\n",
       "      <td>3.030874</td>\n",
       "      <td>-1.303849</td>\n",
       "      <td>0.501984036</td>\n",
       "      <td>good</td>\n",
       "    </tr>\n",
       "  </tbody>\n",
       "</table>\n",
       "</div>"
      ],
      "text/plain": [
       "       Size    Weight  Sweetness  Crunchiness  Juiciness  Ripeness  \\\n",
       "0 -3.970049 -2.512336   5.346330    -1.012009   1.844900  0.329840   \n",
       "1 -1.195217 -2.839257   3.664059     1.588232   0.853286  0.867530   \n",
       "2 -0.292024 -1.351282  -1.738429    -0.342616   2.838636 -0.038033   \n",
       "3 -0.657196 -2.271627   1.324874    -0.097875   3.637970 -3.413761   \n",
       "4  1.364217 -1.296612  -0.384658    -0.553006   3.030874 -1.303849   \n",
       "\n",
       "        Acidity Quality  \n",
       "0  -0.491590483    good  \n",
       "1  -0.722809367    good  \n",
       "2   2.621636473     bad  \n",
       "3   0.790723217    good  \n",
       "4   0.501984036    good  "
      ]
     },
     "execution_count": 91,
     "metadata": {},
     "output_type": "execute_result"
    }
   ],
   "source": [
    "df.head()"
   ]
  },
  {
   "cell_type": "code",
   "execution_count": 92,
   "id": "acad26d4",
   "metadata": {},
   "outputs": [
    {
     "data": {
      "text/plain": [
       "Size           1\n",
       "Weight         1\n",
       "Sweetness      1\n",
       "Crunchiness    1\n",
       "Juiciness      1\n",
       "Ripeness       1\n",
       "Acidity        0\n",
       "Quality        1\n",
       "dtype: int64"
      ]
     },
     "execution_count": 92,
     "metadata": {},
     "output_type": "execute_result"
    }
   ],
   "source": [
    "df.isnull().sum()"
   ]
  },
  {
   "cell_type": "code",
   "execution_count": 93,
   "id": "36f8a9eb",
   "metadata": {},
   "outputs": [],
   "source": [
    "df = df.dropna()"
   ]
  },
  {
   "cell_type": "code",
   "execution_count": 94,
   "id": "fc882d87",
   "metadata": {},
   "outputs": [
    {
     "data": {
      "text/plain": [
       "Size           0\n",
       "Weight         0\n",
       "Sweetness      0\n",
       "Crunchiness    0\n",
       "Juiciness      0\n",
       "Ripeness       0\n",
       "Acidity        0\n",
       "Quality        0\n",
       "dtype: int64"
      ]
     },
     "execution_count": 94,
     "metadata": {},
     "output_type": "execute_result"
    }
   ],
   "source": [
    "df.isnull().sum()"
   ]
  },
  {
   "cell_type": "code",
   "execution_count": 95,
   "id": "a5bb26e0",
   "metadata": {},
   "outputs": [
    {
     "data": {
      "text/plain": [
       "(4000, 8)"
      ]
     },
     "execution_count": 95,
     "metadata": {},
     "output_type": "execute_result"
    }
   ],
   "source": [
    "df.shape"
   ]
  },
  {
   "cell_type": "code",
   "execution_count": 96,
   "id": "0e422cdf",
   "metadata": {},
   "outputs": [],
   "source": [
    "df['Acidity'] = df['Acidity'].astype('float64')"
   ]
  },
  {
   "cell_type": "code",
   "execution_count": 97,
   "id": "58f89a47",
   "metadata": {},
   "outputs": [
    {
     "name": "stdout",
     "output_type": "stream",
     "text": [
      "<class 'pandas.core.frame.DataFrame'>\n",
      "Index: 4000 entries, 0 to 3999\n",
      "Data columns (total 8 columns):\n",
      " #   Column       Non-Null Count  Dtype  \n",
      "---  ------       --------------  -----  \n",
      " 0   Size         4000 non-null   float64\n",
      " 1   Weight       4000 non-null   float64\n",
      " 2   Sweetness    4000 non-null   float64\n",
      " 3   Crunchiness  4000 non-null   float64\n",
      " 4   Juiciness    4000 non-null   float64\n",
      " 5   Ripeness     4000 non-null   float64\n",
      " 6   Acidity      4000 non-null   float64\n",
      " 7   Quality      4000 non-null   object \n",
      "dtypes: float64(7), object(1)\n",
      "memory usage: 281.2+ KB\n"
     ]
    }
   ],
   "source": [
    "df.info()"
   ]
  },
  {
   "cell_type": "code",
   "execution_count": 98,
   "id": "3e35fe05",
   "metadata": {},
   "outputs": [],
   "source": [
    "from sklearn.preprocessing import LabelEncoder\n",
    "\n",
    "#Usaremos essa lib para poder utilizar a variavel 'Quality' no modelo, alterando seu tipo"
   ]
  },
  {
   "cell_type": "code",
   "execution_count": 99,
   "id": "5b60459a",
   "metadata": {},
   "outputs": [],
   "source": [
    "label_encoder = LabelEncoder()\n",
    "df['Quality'] = label_encoder.fit_transform(df['Quality'])"
   ]
  },
  {
   "cell_type": "code",
   "execution_count": 100,
   "id": "e7aab0b5",
   "metadata": {},
   "outputs": [
    {
     "data": {
      "text/plain": [
       "0       1\n",
       "1       1\n",
       "2       0\n",
       "3       1\n",
       "4       1\n",
       "       ..\n",
       "3995    0\n",
       "3996    1\n",
       "3997    0\n",
       "3998    1\n",
       "3999    1\n",
       "Name: Quality, Length: 4000, dtype: int32"
      ]
     },
     "execution_count": 100,
     "metadata": {},
     "output_type": "execute_result"
    }
   ],
   "source": [
    "df['Quality']"
   ]
  },
  {
   "cell_type": "markdown",
   "id": "2d487b4b",
   "metadata": {},
   "source": [
    "# Modelando e padronizando o dataframe para contrução do modelo"
   ]
  },
  {
   "cell_type": "code",
   "execution_count": 101,
   "id": "9426080c",
   "metadata": {},
   "outputs": [],
   "source": [
    "#Padronização dos dados\n",
    "\n",
    "from sklearn.preprocessing import StandardScaler\n",
    "\n",
    "#Ao aplicar o StandardScaler durante o pré-processamento, garantimos que os dados estejam em uma escala uniforme, facilitando o treinamento do modelo."
   ]
  },
  {
   "cell_type": "code",
   "execution_count": 102,
   "id": "e265f9a1",
   "metadata": {},
   "outputs": [],
   "source": [
    "scaler = StandardScaler()\n",
    "df[['Size','Weight','Sweetness','Crunchiness','Juiciness','Ripeness','Acidity']] = scaler.fit_transform(df[['Size','Weight','Sweetness','Crunchiness','Juiciness','Ripeness','Acidity']])\n",
    "#Todos os valores  exceto os valores de queremos predizer que no caso é o 'Quality'"
   ]
  },
  {
   "cell_type": "code",
   "execution_count": 103,
   "id": "07c6ce6a",
   "metadata": {},
   "outputs": [
    {
     "data": {
      "text/html": [
       "<div>\n",
       "<style scoped>\n",
       "    .dataframe tbody tr th:only-of-type {\n",
       "        vertical-align: middle;\n",
       "    }\n",
       "\n",
       "    .dataframe tbody tr th {\n",
       "        vertical-align: top;\n",
       "    }\n",
       "\n",
       "    .dataframe thead th {\n",
       "        text-align: right;\n",
       "    }\n",
       "</style>\n",
       "<table border=\"1\" class=\"dataframe\">\n",
       "  <thead>\n",
       "    <tr style=\"text-align: right;\">\n",
       "      <th></th>\n",
       "      <th>Size</th>\n",
       "      <th>Weight</th>\n",
       "      <th>Sweetness</th>\n",
       "      <th>Crunchiness</th>\n",
       "      <th>Juiciness</th>\n",
       "      <th>Ripeness</th>\n",
       "      <th>Acidity</th>\n",
       "      <th>Quality</th>\n",
       "    </tr>\n",
       "  </thead>\n",
       "  <tbody>\n",
       "    <tr>\n",
       "      <th>0</th>\n",
       "      <td>-1.798424</td>\n",
       "      <td>-0.950373</td>\n",
       "      <td>2.993421</td>\n",
       "      <td>-1.424150</td>\n",
       "      <td>0.690545</td>\n",
       "      <td>-0.089872</td>\n",
       "      <td>-0.269415</td>\n",
       "      <td>1</td>\n",
       "    </tr>\n",
       "    <tr>\n",
       "      <th>1</th>\n",
       "      <td>-0.359060</td>\n",
       "      <td>-1.154404</td>\n",
       "      <td>2.127698</td>\n",
       "      <td>0.429746</td>\n",
       "      <td>0.176767</td>\n",
       "      <td>0.197020</td>\n",
       "      <td>-0.378997</td>\n",
       "      <td>1</td>\n",
       "    </tr>\n",
       "    <tr>\n",
       "      <th>2</th>\n",
       "      <td>0.109445</td>\n",
       "      <td>-0.225759</td>\n",
       "      <td>-0.652507</td>\n",
       "      <td>-0.946892</td>\n",
       "      <td>1.205422</td>\n",
       "      <td>-0.286156</td>\n",
       "      <td>1.206044</td>\n",
       "      <td>0</td>\n",
       "    </tr>\n",
       "    <tr>\n",
       "      <th>3</th>\n",
       "      <td>-0.079977</td>\n",
       "      <td>-0.800146</td>\n",
       "      <td>0.923916</td>\n",
       "      <td>-0.772399</td>\n",
       "      <td>1.619575</td>\n",
       "      <td>-2.087320</td>\n",
       "      <td>0.338315</td>\n",
       "      <td>1</td>\n",
       "    </tr>\n",
       "    <tr>\n",
       "      <th>4</th>\n",
       "      <td>0.968573</td>\n",
       "      <td>-0.191640</td>\n",
       "      <td>0.044164</td>\n",
       "      <td>-1.096894</td>\n",
       "      <td>1.305025</td>\n",
       "      <td>-0.961548</td>\n",
       "      <td>0.201472</td>\n",
       "      <td>1</td>\n",
       "    </tr>\n",
       "    <tr>\n",
       "      <th>...</th>\n",
       "      <td>...</td>\n",
       "      <td>...</td>\n",
       "      <td>...</td>\n",
       "      <td>...</td>\n",
       "      <td>...</td>\n",
       "      <td>...</td>\n",
       "      <td>...</td>\n",
       "      <td>...</td>\n",
       "    </tr>\n",
       "    <tr>\n",
       "      <th>3995</th>\n",
       "      <td>0.291729</td>\n",
       "      <td>-0.048594</td>\n",
       "      <td>-1.669449</td>\n",
       "      <td>-0.365345</td>\n",
       "      <td>0.614425</td>\n",
       "      <td>0.931482</td>\n",
       "      <td>0.028866</td>\n",
       "      <td>0</td>\n",
       "    </tr>\n",
       "    <tr>\n",
       "      <th>3996</th>\n",
       "      <td>0.108878</td>\n",
       "      <td>1.834105</td>\n",
       "      <td>0.137124</td>\n",
       "      <td>-1.159058</td>\n",
       "      <td>-0.252634</td>\n",
       "      <td>-0.846326</td>\n",
       "      <td>0.842347</td>\n",
       "      <td>1</td>\n",
       "    </tr>\n",
       "    <tr>\n",
       "      <th>3997</th>\n",
       "      <td>-1.105655</td>\n",
       "      <td>-0.716904</td>\n",
       "      <td>-1.013784</td>\n",
       "      <td>-0.234036</td>\n",
       "      <td>0.874379</td>\n",
       "      <td>2.275957</td>\n",
       "      <td>-0.668950</td>\n",
       "      <td>0</td>\n",
       "    </tr>\n",
       "    <tr>\n",
       "      <th>3998</th>\n",
       "      <td>-1.818112</td>\n",
       "      <td>-0.492908</td>\n",
       "      <td>1.459901</td>\n",
       "      <td>-0.845446</td>\n",
       "      <td>0.854549</td>\n",
       "      <td>-0.151419</td>\n",
       "      <td>-1.093171</td>\n",
       "      <td>1</td>\n",
       "    </tr>\n",
       "    <tr>\n",
       "      <th>3999</th>\n",
       "      <td>0.405409</td>\n",
       "      <td>-0.453071</td>\n",
       "      <td>0.304496</td>\n",
       "      <td>-1.525439</td>\n",
       "      <td>0.390954</td>\n",
       "      <td>-0.680212</td>\n",
       "      <td>0.721761</td>\n",
       "      <td>1</td>\n",
       "    </tr>\n",
       "  </tbody>\n",
       "</table>\n",
       "<p>4000 rows × 8 columns</p>\n",
       "</div>"
      ],
      "text/plain": [
       "          Size    Weight  Sweetness  Crunchiness  Juiciness  Ripeness  \\\n",
       "0    -1.798424 -0.950373   2.993421    -1.424150   0.690545 -0.089872   \n",
       "1    -0.359060 -1.154404   2.127698     0.429746   0.176767  0.197020   \n",
       "2     0.109445 -0.225759  -0.652507    -0.946892   1.205422 -0.286156   \n",
       "3    -0.079977 -0.800146   0.923916    -0.772399   1.619575 -2.087320   \n",
       "4     0.968573 -0.191640   0.044164    -1.096894   1.305025 -0.961548   \n",
       "...        ...       ...        ...          ...        ...       ...   \n",
       "3995  0.291729 -0.048594  -1.669449    -0.365345   0.614425  0.931482   \n",
       "3996  0.108878  1.834105   0.137124    -1.159058  -0.252634 -0.846326   \n",
       "3997 -1.105655 -0.716904  -1.013784    -0.234036   0.874379  2.275957   \n",
       "3998 -1.818112 -0.492908   1.459901    -0.845446   0.854549 -0.151419   \n",
       "3999  0.405409 -0.453071   0.304496    -1.525439   0.390954 -0.680212   \n",
       "\n",
       "       Acidity  Quality  \n",
       "0    -0.269415        1  \n",
       "1    -0.378997        1  \n",
       "2     1.206044        0  \n",
       "3     0.338315        1  \n",
       "4     0.201472        1  \n",
       "...        ...      ...  \n",
       "3995  0.028866        0  \n",
       "3996  0.842347        1  \n",
       "3997 -0.668950        0  \n",
       "3998 -1.093171        1  \n",
       "3999  0.721761        1  \n",
       "\n",
       "[4000 rows x 8 columns]"
      ]
     },
     "execution_count": 103,
     "metadata": {},
     "output_type": "execute_result"
    }
   ],
   "source": [
    "df"
   ]
  },
  {
   "cell_type": "markdown",
   "id": "cdf96d79",
   "metadata": {},
   "source": [
    "# Criando do modelo"
   ]
  },
  {
   "cell_type": "code",
   "execution_count": 104,
   "id": "f82983bf",
   "metadata": {},
   "outputs": [],
   "source": [
    "#Divisao entre treino e teste\n",
    "\n",
    "X = df.drop('Quality',axis=1)\n",
    "y = df['Quality']"
   ]
  },
  {
   "cell_type": "code",
   "execution_count": 105,
   "id": "e6aa9ded",
   "metadata": {},
   "outputs": [],
   "source": [
    "#importação das bibliotecas \n",
    "\n",
    "from sklearn.model_selection import train_test_split\n",
    "#Divide um conjunto de dados entre treino e teste para avaliar modelos de machine learning\n",
    "\n",
    "from sklearn.linear_model import LogisticRegression\n",
    "#implementa regressao logistica para problemas de classificacao binaria.estima probabilidade de pertencimento de classe\n",
    "\n",
    "from sklearn.tree import DecisionTreeClassifier\n",
    "#Cria uma arvore de decisao para cada classificação, divide dados baseado em regras de decisao em cada nó\n",
    "\n",
    "from sklearn.ensemble import RandomForestClassifier\n",
    "#Combina varias arvoes de decisao para melhorar a precisao e reduzir o overfitting, bom para classificação e regressão\n",
    "\n",
    "from sklearn.svm import SVC\n",
    "#implementa maquinas de vetores de suporte para classificação, encontra hiperplano que melhor separa classes\n",
    "\n",
    "from sklearn.neighbors import KNeighborsClassifier\n",
    "#Classifica as instancias com base nas classes mais proximas (vizinhos)\n",
    "\n",
    "#from xgboost import XGBClassifier\n",
    "#Implementa algoritmo de GRADIENT BOOSTING, bom para classificacao e regressao. EFICIENTE-ESCALONAVEL COM REGULARIZAÇÃO\n",
    "\n",
    "from sklearn.metrics import accuracy_score, f1_score, classification_report\n",
    "#ACCURACY -> é uma métrica comum para avaliar o desempenho de um modelo de classificação, mede proporção de previsoes corretas\n",
    "#F1_SCORE -> é uma métrica que combina precisão com recall, util em classes desequilibradas. calcula média harmonica entre precisão e recall\n",
    "#CLASSIFICATION_REPORT -> visão geral das métricas de avaliação\n",
    "\n",
    "from sklearn.neural_network import MLPClassifier\n",
    "#implementa redes neurais para aprender relações complexas entre recursos e classes"
   ]
  },
  {
   "cell_type": "code",
   "execution_count": 106,
   "id": "21e9f861",
   "metadata": {},
   "outputs": [],
   "source": [
    "X_train,X_test,y_train,y_test = train_test_split(X,\n",
    "                                                y,\n",
    "                                                test_size=0.2,\n",
    "                                                random_state=42)"
   ]
  },
  {
   "cell_type": "code",
   "execution_count": 107,
   "id": "a1946880",
   "metadata": {},
   "outputs": [],
   "source": [
    "#Lista de classificações\n",
    "\n",
    "classifiers = {\n",
    "    'Logistic Regression': LogisticRegression(),\n",
    "    'Decision Tree': DecisionTreeClassifier(),\n",
    "    'Random Forest': RandomForestClassifier(),\n",
    "    'SVC': SVC(),\n",
    "    'K-nearest neigbour': KNeighborsClassifier(),\n",
    "    'Neural Network': MLPClassifier(),    \n",
    "}"
   ]
  },
  {
   "cell_type": "code",
   "execution_count": 108,
   "id": "0ece3330",
   "metadata": {},
   "outputs": [],
   "source": [
    "accuracies = []\n",
    "f1_scores = []"
   ]
  },
  {
   "cell_type": "code",
   "execution_count": 109,
   "id": "f69daa89",
   "metadata": {},
   "outputs": [
    {
     "name": "stdout",
     "output_type": "stream",
     "text": [
      "\n",
      " ==============================\n",
      "Logistic Regression\n",
      "                              \n",
      "Accuracy: 0.7538\n",
      "Classification Report\n",
      "              precision    recall  f1-score   support\n",
      "\n",
      "           0       0.75      0.76      0.75       401\n",
      "           1       0.75      0.75      0.75       399\n",
      "\n",
      "    accuracy                           0.75       800\n",
      "   macro avg       0.75      0.75      0.75       800\n",
      "weighted avg       0.75      0.75      0.75       800\n",
      "\n",
      "\n",
      " ==============================\n",
      "Decision Tree\n",
      "                              \n",
      "Accuracy: 0.8075\n",
      "Classification Report\n",
      "              precision    recall  f1-score   support\n",
      "\n",
      "           0       0.81      0.81      0.81       401\n",
      "           1       0.81      0.81      0.81       399\n",
      "\n",
      "    accuracy                           0.81       800\n",
      "   macro avg       0.81      0.81      0.81       800\n",
      "weighted avg       0.81      0.81      0.81       800\n",
      "\n",
      "\n",
      " ==============================\n",
      "Random Forest\n",
      "                              \n",
      "Accuracy: 0.9050\n",
      "Classification Report\n",
      "              precision    recall  f1-score   support\n",
      "\n",
      "           0       0.91      0.90      0.90       401\n",
      "           1       0.90      0.91      0.91       399\n",
      "\n",
      "    accuracy                           0.91       800\n",
      "   macro avg       0.91      0.91      0.90       800\n",
      "weighted avg       0.91      0.91      0.90       800\n",
      "\n",
      "\n",
      " ==============================\n",
      "SVC\n",
      "                              \n",
      "Accuracy: 0.9038\n",
      "Classification Report\n",
      "              precision    recall  f1-score   support\n",
      "\n",
      "           0       0.90      0.91      0.90       401\n",
      "           1       0.90      0.90      0.90       399\n",
      "\n",
      "    accuracy                           0.90       800\n",
      "   macro avg       0.90      0.90      0.90       800\n",
      "weighted avg       0.90      0.90      0.90       800\n",
      "\n",
      "\n",
      " ==============================\n",
      "K-nearest neigbour\n",
      "                              \n",
      "Accuracy: 0.9012\n",
      "Classification Report\n",
      "              precision    recall  f1-score   support\n",
      "\n",
      "           0       0.90      0.90      0.90       401\n",
      "           1       0.90      0.90      0.90       399\n",
      "\n",
      "    accuracy                           0.90       800\n",
      "   macro avg       0.90      0.90      0.90       800\n",
      "weighted avg       0.90      0.90      0.90       800\n",
      "\n",
      "\n",
      " ==============================\n",
      "Neural Network\n",
      "                              \n",
      "Accuracy: 0.9225\n",
      "Classification Report\n",
      "              precision    recall  f1-score   support\n",
      "\n",
      "           0       0.92      0.93      0.92       401\n",
      "           1       0.92      0.92      0.92       399\n",
      "\n",
      "    accuracy                           0.92       800\n",
      "   macro avg       0.92      0.92      0.92       800\n",
      "weighted avg       0.92      0.92      0.92       800\n",
      "\n"
     ]
    },
    {
     "name": "stderr",
     "output_type": "stream",
     "text": [
      "C:\\ProgramData\\anaconda3\\Lib\\site-packages\\sklearn\\neural_network\\_multilayer_perceptron.py:691: ConvergenceWarning: Stochastic Optimizer: Maximum iterations (200) reached and the optimization hasn't converged yet.\n",
      "  warnings.warn(\n"
     ]
    }
   ],
   "source": [
    "for name, clf in classifiers.items():\n",
    "    clf.fit(X_train,y_train)\n",
    "    y_pred = clf.predict(X_test)\n",
    "    \n",
    "    accuracy = accuracy_score(y_test,y_pred)\n",
    "    \n",
    "    accuracies.append(accuracy)\n",
    "    \n",
    "    print(f\"\\n {30*'='}\\n{name}\\n{30*' '}\")\n",
    "    print(f\"Accuracy: {accuracy:.4f}\")\n",
    "    print(f\"Classification Report\")\n",
    "    print(classification_report(y_test,y_pred))"
   ]
  },
  {
   "cell_type": "markdown",
   "id": "7146f2d3",
   "metadata": {},
   "source": [
    "A acurácia \n",
    "- Mede a precisão e exatidão dos resultados obtidos. Mede o quão próximos estão os dados em uma linha de regressão ajustada.\n",
    "\n",
    "Precisão(Precision)\n",
    "- Mede a precisão de verdadeiros positivos, útil para filtrar falsos positivos\n",
    "\n",
    "Revocação(Recall)\n",
    "- Parecido com o Precision, mas sua utilidade é voltada para evitar falsos negativos\n",
    "\n",
    "F1-Score\n",
    "- É uma média harmônica entre a Precision e o Recall, equilibra a importância de ambas métricas sendo útil em classes desequilibradas \n",
    "- 0-0.5 RUIM\n",
    "- 0.5-0.8 ACEITAVEL\n",
    "- 0.8-0.9 BOM\n",
    "- 0.9-1.0 MUITO BOM\n",
    "\n",
    "Support\n",
    "- Valor total de instâncias na classe\n"
   ]
  },
  {
   "cell_type": "markdown",
   "id": "839aafab",
   "metadata": {},
   "source": [
    "# 1. Logistic Regression"
   ]
  },
  {
   "cell_type": "markdown",
   "id": "1c9381d6",
   "metadata": {},
   "source": [
    "Método usado para ajustar modelo de regressão quando a variável resposta é binária (no caso a 'Quality')\n",
    "\n",
    "Acurácia 75.38% // F1 Score 0.75\n",
    "\n",
    "O modelo acertou aproximandamente 75.38% das previsões (BOM SCORE)\n"
   ]
  },
  {
   "cell_type": "markdown",
   "id": "038f74b9",
   "metadata": {},
   "source": [
    "# 2. Decision Tree"
   ]
  },
  {
   "cell_type": "markdown",
   "id": "d9c57acc",
   "metadata": {},
   "source": [
    "Funciona como um tipo de fluxograma, lida com dados complexos e pode ser 'podada' para evitar overfitting\n",
    "\n",
    "Acurácia 80.87% // F1 Score 0.81\n",
    "\n",
    "A Classificação Decision Tree teve uma boa acurácia e uma boa performance entre as classes, Bom resultado!"
   ]
  },
  {
   "cell_type": "markdown",
   "id": "ffc8739e",
   "metadata": {},
   "source": [
    "# 3. Random Forest "
   ]
  },
  {
   "cell_type": "markdown",
   "id": "fc676e90",
   "metadata": {},
   "source": [
    "A Random Forest combina a previsão de várias árvores por meio de médias, melhorando a precisão e controlando o overfitting. Sistema bem robusto.\n",
    "\n",
    "Acurácia 90.5% // F1 Score 0.91\n",
    "\n",
    "Random Forest até o momento nos apresentou os melhores resultados, indicando capacidade de aprender a complexidade do dataset"
   ]
  },
  {
   "cell_type": "markdown",
   "id": "7a989f64",
   "metadata": {},
   "source": [
    "## 4. SVM"
   ]
  },
  {
   "cell_type": "markdown",
   "id": "7c3f09c8",
   "metadata": {},
   "source": [
    "O SVM é uma ferramenta poderosa para resolver problemas de classificação e regressão, encontrando hiperplanos que separam os dados de maneira eficaz\n",
    "\n",
    "Acurácia 90.38% // F1 Score 0.90\n",
    "\n",
    "O modelo SVM apresentou alto score também, indicando eficácia no tratamento de relações não lineares"
   ]
  },
  {
   "cell_type": "markdown",
   "id": "87401efc",
   "metadata": {},
   "source": [
    "# 5. K-nearest Neighbors"
   ]
  },
  {
   "cell_type": "markdown",
   "id": "bc8c5197",
   "metadata": {},
   "source": [
    "O K-nearest Neighbors ou 'KNN' é um classificador de aprendizado supervisionado não paramétrico que utiliza a proximidade para fazer classificações ou previsões sobre o agrupamento de um ponto de dados individual\n",
    "\n",
    "Acurácia 90.12% // F1 Score 0.90\n",
    "\n",
    "Também demonstra uma alta performance como os outros modelos"
   ]
  },
  {
   "cell_type": "markdown",
   "id": "e44d9a85",
   "metadata": {},
   "source": [
    "# Neural Network"
   ]
  },
  {
   "cell_type": "markdown",
   "id": "2d030303",
   "metadata": {},
   "source": [
    "A Neural Network  são essenciais para resolver problemas de classificação; previsão e modemlagem complexa. Seu funcionamento é inspirado na comunicação entre os neurônios do cérebro humano\n",
    "\n",
    "Acurácia 92.25% // F1 Score 0.92\n",
    "\n",
    "Modelo com a acurácia mais alta"
   ]
  },
  {
   "cell_type": "code",
   "execution_count": null,
   "id": "780111a7",
   "metadata": {},
   "outputs": [],
   "source": []
  }
 ],
 "metadata": {
  "kernelspec": {
   "display_name": "Python 3 (ipykernel)",
   "language": "python",
   "name": "python3"
  },
  "language_info": {
   "codemirror_mode": {
    "name": "ipython",
    "version": 3
   },
   "file_extension": ".py",
   "mimetype": "text/x-python",
   "name": "python",
   "nbconvert_exporter": "python",
   "pygments_lexer": "ipython3",
   "version": "3.11.5"
  }
 },
 "nbformat": 4,
 "nbformat_minor": 5
}
